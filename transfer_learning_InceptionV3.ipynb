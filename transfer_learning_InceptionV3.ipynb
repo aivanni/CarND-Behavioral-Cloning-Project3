{
 "cells": [
  {
   "cell_type": "code",
   "execution_count": null,
   "metadata": {},
   "outputs": [],
   "source": [
    "import os\n",
    "import csv\n",
    "import glob\n",
    "samples = []\n",
    "for name in glob.glob(\"./data/*.csv\"):\n",
    "    print ( \"Reading from logfile = \" + name)\n",
    "    with open(name)  as csvfile:\n",
    "            reader = csv.reader(csvfile)\n",
    "            for line in reader:\n",
    "                samples.append(line)\n",
    "                \n",
    "print ( \"Total samples found  : \" + str(len(samples)))\n",
    "from sklearn.model_selection import train_test_split\n",
    "train_samples, validation_samples = train_test_split(samples, test_size=0.2)\n"
   ]
  },
  {
   "cell_type": "code",
   "execution_count": null,
   "metadata": {},
   "outputs": [],
   "source": [
    "import tensorflow as tf\n"
   ]
  },
  {
   "cell_type": "code",
   "execution_count": null,
   "metadata": {},
   "outputs": [],
   "source": [
    "def  extractFileName ( abs_path):\n",
    "\n",
    "    import os\n",
    "    if os.name == \"nt\":\n",
    "        split_char = '\\\\' \n",
    "    else:\n",
    "        split_char = '/' \n",
    "    if '\\\\' in abs_path:\n",
    "        # \"  Windows Path \" \n",
    "#         print (\"windows path\")\n",
    "#         print (abs_path )\n",
    "        image_name = './'+ abs_path.split ('\\\\')[-3] \\\n",
    "                            + split_char + abs_path.split ('\\\\')[-2] \\\n",
    "                            + split_char + abs_path.split ('\\\\')[-1]\n",
    "\n",
    "    else:\n",
    "        # \"  Unix Path \" \n",
    "        image_name = './'+ abs_path.split ('/')[-3] \\\n",
    "                            + split_char + abs_path.split ('/')[-2] \\\n",
    "                            + split_char + abs_path.split ('/')[-1]\n",
    "\n",
    "    return image_name"
   ]
  },
  {
   "cell_type": "code",
   "execution_count": null,
   "metadata": {},
   "outputs": [],
   "source": [
    "import cv2\n",
    "img = cv2.imread(\"/data/center_image.jpg\")\n",
    "img = cv2.resize(img,(299,299))\n",
    "crop_img = img[100:260, 0:299] # Crop from x, y, w, h -> 100, 200, 300, 400\n",
    "# NOTE: its img[y: y + h, x: x + w] and *not* img[x: x + w, y: y + h]\n",
    "import matplotlib.pyplot as plt\n",
    "# # # Visualizations will be shown in the notebook.\n",
    "%matplotlib inline\n",
    "\n",
    "plt.imshow(crop_img)\n",
    "plt.show()"
   ]
  },
  {
   "cell_type": "code",
   "execution_count": null,
   "metadata": {},
   "outputs": [],
   "source": [
    "crop_img.shape"
   ]
  },
  {
   "cell_type": "code",
   "execution_count": null,
   "metadata": {},
   "outputs": [],
   "source": [
    "train_samples_number_angle_no_zero = 0\n",
    "for sample in train_samples:\n",
    "    stearing_angle = float(sample[3])\n",
    "    #if stearing_angle != 0:\n",
    "    train_samples_number_angle_no_zero +=1\n",
    "print ( \"Total number of train samples in total= {}, but  with a stearing angle <> 0 = {} \"\\\n",
    "   .format(len(train_samples),train_samples_number_angle_no_zero) )\n"
   ]
  },
  {
   "cell_type": "code",
   "execution_count": null,
   "metadata": {},
   "outputs": [],
   "source": [
    "for sample in train_samples:\n",
    "    left_image_name   = extractFileName( sample[1])\n",
    "    print (left_image_name)"
   ]
  },
  {
   "cell_type": "code",
   "execution_count": null,
   "metadata": {},
   "outputs": [],
   "source": [
    "import cv2\n",
    "import numpy as np\n",
    "import sklearn\n",
    "\n",
    "\n",
    "def generator(samples, batch_size=256, shape = 299):\n",
    "    num_samples = len(samples)\n",
    "    while 1: # Loop forever so the generator never terminates\n",
    "        sklearn.utils.shuffle(samples)\n",
    "        for offset in range(0, num_samples, batch_size):\n",
    "            batch_samples = samples[offset:offset+batch_size]\n",
    "\n",
    "            images = []\n",
    "            angles = []\n",
    "            for batch_sample in batch_samples:\n",
    "                \n",
    "                left_image_name   = extractFileName( batch_sample[1])\n",
    "#                 print (left_image_name)\n",
    "                right_image_name  = extractFileName( batch_sample[2])\n",
    "                \n",
    "                center_image_name = extractFileName( batch_sample[0])\n",
    "                \n",
    "                left_image = cv2.imread(left_image_name)\n",
    "                left_image = cv2.cvtColor (left_image, cv2.COLOR_BGR2RGB)\n",
    "                left_image = cv2.resize(left_image,(shape,shape ))\n",
    "\n",
    "                right_image = cv2.imread(right_image_name)\n",
    "                right_image = cv2.cvtColor (right_image, cv2.COLOR_BGR2RGB)\n",
    "                right_image = cv2.resize(right_image,(shape,shape ))\n",
    "\n",
    "                center_image = cv2.imread(center_image_name)\n",
    "                center_image = cv2.cvtColor (center_image, cv2.COLOR_BGR2RGB)\n",
    "                center_image = cv2.resize(center_image,(shape,shape ))\n",
    "    \n",
    "                stearing_angle = float(batch_sample[3])\n",
    "                #if stearing_angle != 0:\n",
    "               # create adjusted steering measurements for the side camera images\n",
    "                correction = 0.2 # this is a parameter to tune\n",
    "                steering_left = stearing_angle + correction\n",
    "                steering_right = stearing_angle - correction\n",
    "\n",
    "                images.append(center_image)\n",
    "                angles.append(stearing_angle)\n",
    "\n",
    "                images.append(left_image)\n",
    "                angles.append(steering_left)\n",
    "\n",
    "                images.append(right_image)\n",
    "                angles.append(steering_right)\n",
    "\n",
    "\n",
    "#                 # augmented center image\n",
    "#                 images.append(cv2.flip(center_image,1))\n",
    "#                 angles.append(stearing_angle*-1.0)\n",
    "\n",
    "#                 # augmented left image\n",
    "#                 images.append(cv2.flip(left_image,1))\n",
    "#                 angles.append(steering_left*-1.0)\n",
    "\n",
    "#                 # augmented left image\n",
    "#                 images.append(cv2.flip(right_image,1))\n",
    "#                 angles.append(steering_right*-1.0)\n",
    "\n",
    "            # end of the batch, yield the images gathered\n",
    "            yield sklearn.utils.shuffle(np.array(images) , np.array(angles))\n",
    "            #return sklearn.utils.shuffle(X_train ) #, y_train)"
   ]
  },
  {
   "cell_type": "code",
   "execution_count": null,
   "metadata": {},
   "outputs": [],
   "source": [
    "from keras.applications.inception_v3 import InceptionV3\n",
    "from keras.preprocessing import image\n",
    "from keras.models import Model\n",
    "from keras.layers import Dense, GlobalAveragePooling2D\n",
    "from keras import backend as K\n",
    "import tensorflow as tf\n",
    "\n",
    "# create the base pre-trained model\n",
    "base_model = InceptionV3(weights='imagenet', include_top=False)\n",
    "\n",
    "# add a global spatial average pooling layer\n",
    "x = base_model.output\n",
    "x1 = GlobalAveragePooling2D()(x)\n",
    "# let's add a fully-connected layer\n",
    "x2 = Dense(1024, activation='relu', name =\"dense_2014\")(x1)\n",
    "# and a logistic layer -- let's say we have 200 classes\n",
    "predictions = Dense(1, name =\"final_1\")(x2)\n",
    "\n",
    "print ( \" .. Completed \")"
   ]
  },
  {
   "cell_type": "code",
   "execution_count": null,
   "metadata": {},
   "outputs": [],
   "source": [
    " base_model.output\n"
   ]
  },
  {
   "cell_type": "code",
   "execution_count": null,
   "metadata": {},
   "outputs": [],
   "source": [
    "x1\n"
   ]
  },
  {
   "cell_type": "code",
   "execution_count": null,
   "metadata": {},
   "outputs": [],
   "source": [
    "from keras import layers\n",
    "\n",
    "for i, layer in enumerate(base_model.layers):\n",
    "    print(i, layer.name)\n",
    "    #print ( layer.get_weights())\n",
    "    #print ( layer.get_config())\n",
    "    \n"
   ]
  },
  {
   "cell_type": "code",
   "execution_count": null,
   "metadata": {},
   "outputs": [],
   "source": [
    "from keras.models import Sequential\n",
    "from keras.layers import Flatten, Dense, Lambda, Cropping2D, Activation, Dropout, Reshape\n",
    "from keras.layers.convolutional import Conv2D\n",
    "from keras.layers.pooling import MaxPooling2D\n",
    "import tensorflow as tf\n",
    "\n",
    "\n",
    "model = Model(input=base_model.input, output=predictions)\n",
    "print (\" Model completed \")\n"
   ]
  },
  {
   "cell_type": "code",
   "execution_count": null,
   "metadata": {},
   "outputs": [],
   "source": [
    "\n",
    "# first: train only the top layers (which were randomly initialized)\n",
    "# i.e. freeze all convolutional InceptionV3 layers\n",
    "for layer in base_model.layers:\n",
    "    layer.trainable = False\n"
   ]
  },
  {
   "cell_type": "code",
   "execution_count": null,
   "metadata": {},
   "outputs": [],
   "source": [
    "# compile the model (should be done *after* setting layers to non-trainable)\n",
    "model.compile(loss='mse', optimizer='adam')"
   ]
  },
  {
   "cell_type": "code",
   "execution_count": null,
   "metadata": {},
   "outputs": [],
   "source": [
    "# compile and train the model using the generator function\n",
    "train_generator = generator(train_samples, batch_size=32)\n",
    "validation_generator = generator(validation_samples, batch_size=32)"
   ]
  },
  {
   "cell_type": "code",
   "execution_count": null,
   "metadata": {},
   "outputs": [],
   "source": [
    "# train the model on the new data for a few epochs\n",
    "batch_size=32\n",
    "history_object = model.fit_generator(train_generator, steps_per_epoch= \\\n",
    "            train_samples_number_angle_no_zero/batch_size, validation_data=validation_generator, \\\n",
    "            validation_steps=len(validation_samples)/batch_size, epochs=3, verbose = 1)"
   ]
  },
  {
   "cell_type": "code",
   "execution_count": null,
   "metadata": {},
   "outputs": [],
   "source": [
    "\n",
    "from keras.models import save_model\n",
    "\n",
    "save_model(model, \"model_inceptionv3_2.h5\")\n",
    "print ( \"  \")\n",
    "print ( \" .. model saved to model_inceptionv3_2.h5 \")\n",
    "print ( \"  \")\n",
    "\n"
   ]
  },
  {
   "cell_type": "code",
   "execution_count": null,
   "metadata": {},
   "outputs": [],
   "source": [
    "\n",
    "### print the keys contained in the history object\n",
    "print(history_object.history.keys())\n",
    "\n",
    "import matplotlib.pyplot as plt\n",
    "# # # Visualizations will be shown in the notebook.\n",
    "%matplotlib inline\n",
    "\n",
    "### plot the training and validation loss for each epoch\n",
    "plt.plot(history_object.history['loss'])\n",
    "plt.plot(history_object.history['val_loss'])\n",
    "plt.title('model mean squared error loss')\n",
    "plt.ylabel('mean squared error loss')\n",
    "plt.xlabel('epoch')\n",
    "plt.legend(['training set', 'validation set'], loc='upper right')\n",
    "plt.show()\n"
   ]
  },
  {
   "cell_type": "code",
   "execution_count": null,
   "metadata": {},
   "outputs": [],
   "source": [
    "# at this point, the top layers are well trained and we can start fine-tuning\n",
    "# convolutional layers from inception V3. We will freeze the bottom N layers\n",
    "# and train the remaining top layers.\n",
    "\n",
    "# let's visualize layer names and layer indices to see how many layers\n",
    "# we should freeze:\n",
    "for i, layer in enumerate(base_model.layers[:249]):\n",
    "   print(i, layer.name)\n"
   ]
  },
  {
   "cell_type": "code",
   "execution_count": null,
   "metadata": {},
   "outputs": [],
   "source": [
    "# we chose to train the top 2 inception blocks, i.e. we will freeze\n",
    "# the first 249 layers and unfreeze the rest:\n",
    "for layer in model.layers[:249]:\n",
    "   layer.trainable = False\n",
    "for layer in model.layers[249:]:\n",
    "   layer.trainable = True\n",
    "\n",
    "# we need to recompile the model for these modifications to take effect\n",
    "# we use SGD with a low learning rate\n",
    "from keras.optimizers import SGD\n",
    "model.compile(optimizer=SGD(lr=0.0001, momentum=0.9), loss='mse')\n",
    "#model.compile(loss='mse', optimizer='adam')\n",
    "\n",
    "# we train our model again (this time fine-tuning the top 2 inception blocks\n",
    "# alongside the top Dense layers\n",
    "batch_size=32\n",
    "history_object = model.fit_generator(train_generator, steps_per_epoch= \\\n",
    "            train_samples_number_angle_no_zero/batch_size, validation_data=validation_generator, \\\n",
    "            validation_steps=len(validation_samples)/batch_size, epochs=3, verbose = 1)"
   ]
  },
  {
   "cell_type": "code",
   "execution_count": null,
   "metadata": {},
   "outputs": [],
   "source": [
    "from keras.models import save_model\n",
    "\n",
    "save_model(model, \"model_inceptionv3_2.h5\")\n",
    "print ( \"  \")\n",
    "print ( \" .. model saved to model_inceptionv3_2.h5 \")\n",
    "print ( \"  \")\n"
   ]
  },
  {
   "cell_type": "code",
   "execution_count": null,
   "metadata": {},
   "outputs": [],
   "source": [
    "\n",
    "### print the keys contained in the history object\n",
    "print(history_object.history.keys())\n",
    "\n",
    "import matplotlib.pyplot as plt\n",
    "# # # Visualizations will be shown in the notebook.\n",
    "%matplotlib inline\n",
    "\n",
    "### plot the training and validation loss for each epoch\n",
    "plt.plot(history_object.history['loss'])\n",
    "plt.plot(history_object.history['val_loss'])\n",
    "plt.title('model mean squared error loss')\n",
    "plt.ylabel('mean squared error loss')\n",
    "plt.xlabel('epoch')\n",
    "plt.legend(['training set', 'validation set'], loc='upper right')\n",
    "plt.show()\n"
   ]
  },
  {
   "cell_type": "markdown",
   "metadata": {},
   "source": [
    "### show intermediate file"
   ]
  },
  {
   "cell_type": "code",
   "execution_count": null,
   "metadata": {},
   "outputs": [],
   "source": [
    "import cv2\n",
    "from keras.models import load_model\n",
    "from keras.models import Model\n",
    "print ( \"Loading.... \")\n",
    "modelobj = load_model('model_inceptionv3_2.h5')\n",
    "print ( \" ... model loaded\")\n"
   ]
  },
  {
   "cell_type": "code",
   "execution_count": null,
   "metadata": {},
   "outputs": [],
   "source": [
    "# Load test images\n",
    "import cv2\n",
    "import numpy as np\n",
    "test_images = []\n",
    "\n",
    "image = cv2.imread('./test_images/center1.jpg')\n",
    "image = cv2.cvtColor (image, cv2.COLOR_BGR2RGB)\n",
    "image = cv2.resize(image,(64,64 ))   \n",
    "image=  image[20:58, 0:64]\n",
    "    \n",
    "test_images.append(image)\n",
    "\n",
    "# image = cv2.imread('./test_images/center2.jpg')\n",
    "# image = cv2.cvtColor (image, cv2.COLOR_BGR2RGB)\n",
    "# image = cv2.resize(image,(64,64 ))     \n",
    "# test_images.append(image)\n",
    "\n",
    "\n",
    "test_images = np.array(test_images)\n"
   ]
  },
  {
   "cell_type": "code",
   "execution_count": null,
   "metadata": {},
   "outputs": [],
   "source": [
    "# Call the model to calculate an intermediate layer using the test images\n",
    "layer_name = base_model.layers[10].name\n",
    "intermediate_layer_model = Model(input=modelobj.input,\n",
    "                                 output=modelobj.get_layer(layer_name).output)\n",
    "intermediate_output = intermediate_layer_model.predict(test_images)\n",
    "intermediate_output.shape"
   ]
  },
  {
   "cell_type": "code",
   "execution_count": null,
   "metadata": {},
   "outputs": [],
   "source": [
    "# Show the cropped images\n",
    "depth = 0 \n",
    "%matplotlib inline\n",
    "import matplotlib.pyplot as plt\n",
    "plt.figure(figsize=(20, 20))\n",
    "new_image = []\n",
    "plt.subplot(5, 5, 1 )\n",
    "plt.axis('off')\n",
    "plt.imshow(test_images[0])\n",
    "i = 1\n",
    "for single_output in intermediate_output:\n",
    "        for image in single_output:\n",
    "            i += 1\n",
    "            plt.subplot(10, 5, i )\n",
    "            plt.axis('off')\n",
    "            single_output = single_output.astype(np.uint8)\n",
    "            plt.imshow(image)\n",
    "plt.show()    \n"
   ]
  },
  {
   "cell_type": "code",
   "execution_count": null,
   "metadata": {},
   "outputs": [],
   "source": []
  }
 ],
 "metadata": {
  "kernelspec": {
   "display_name": "Python 3",
   "language": "python",
   "name": "python3"
  },
  "language_info": {
   "codemirror_mode": {
    "name": "ipython",
    "version": 3
   },
   "file_extension": ".py",
   "mimetype": "text/x-python",
   "name": "python",
   "nbconvert_exporter": "python",
   "pygments_lexer": "ipython3",
   "version": "3.5.2"
  },
  "widgets": {
   "state": {},
   "version": "1.1.2"
  }
 },
 "nbformat": 4,
 "nbformat_minor": 2
}
